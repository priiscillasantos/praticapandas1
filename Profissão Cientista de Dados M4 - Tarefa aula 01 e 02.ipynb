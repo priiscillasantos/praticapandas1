{
 "cells": [
  {
   "cell_type": "markdown",
   "metadata": {},
   "source": [
    "# Tarefa 01\n",
    "\n",
    "- Leia os enunciados com atenção\n",
    "- Saiba que pode haver mais de uma resposta correta\n",
    "- Insira novas células de código sempre que achar necessário\n",
    "- Em caso de dúvidas, procure os tutores\n",
    "- Divirta-se :)\n",
    "\n",
    "#### 1)  crie uma série do pandas a partir de uma lista com os dados abaixo:\n",
    "\n",
    "Em um estudo sobre alteração na tempreatura global, A NASA disponibiliza dados de diferenças de de temperatura média da superfície terrestre relativos às médias de temperatura entre 1951 e 1980. Os dados originais podem ser vistos no site da NASA/GISS, e estão dispostos a cada década na tabela abaixo.\n",
    "\n",
    "|ano|anomalia termica|\n",
    "|:-:|:----:|\n",
    "| 1900 | -0.08 |\n",
    "| 1920 | -0.27 |\n",
    "| 1940 | 0.12 |\n",
    "| 1960 | -0.03 |\n",
    "| 1980 | 0.26 |\n",
    "| 2000 | 0.40 |\n",
    "| 2020 | 1.02 |\n",
    "\n",
    "Crie uma séries do Pandas a partir de uma lista com esses dados."
   ]
  },
  {
   "cell_type": "code",
   "execution_count": 21,
   "metadata": {},
   "outputs": [
    {
     "name": "stdout",
     "output_type": "stream",
     "text": [
      "-0.080    1900\n",
      "-0.027    1920\n",
      " 0.012    1940\n",
      "-0.030    1960\n",
      " 0.260    1980\n",
      " 0.400    2000\n",
      " 1.020    2020\n",
      "dtype: int64\n"
     ]
    }
   ],
   "source": [
    "import pandas as pd\n",
    "import numpy as np\n",
    "\n",
    "ano = [1900,1920,1940,1960,1980,2000,2020]\n",
    "anomalia_termica = [-0.08, -0.027, 0.012, -0.03, 0.26, 0.40, 1.02]\n",
    "\n",
    "sr_temp_global = pd.Series(ano,anomalia_termica)\n",
    "print (sr_temp_global)"
   ]
  },
  {
   "cell_type": "markdown",
   "metadata": {},
   "source": [
    "#### 2) Coloque os anos nos índices conforme a tabela."
   ]
  },
  {
   "cell_type": "code",
   "execution_count": 19,
   "metadata": {},
   "outputs": [
    {
     "name": "stdout",
     "output_type": "stream",
     "text": [
      "1900   -0.080\n",
      "1920   -0.027\n",
      "1940    0.012\n",
      "1960   -0.030\n",
      "1980    0.260\n",
      "2000    0.400\n",
      "2020    1.020\n",
      "dtype: float64\n"
     ]
    }
   ],
   "source": [
    "sr_temp_global = pd.Series(index=ano,data=anomalia_termica)\n",
    "print (sr_temp_global)\n",
    "\n"
   ]
  },
  {
   "cell_type": "markdown",
   "metadata": {},
   "source": [
    "#### 3) A partir do dicionário abaixo, crie uma séries do Pandas:"
   ]
  },
  {
   "cell_type": "code",
   "execution_count": 23,
   "metadata": {},
   "outputs": [
    {
     "name": "stdout",
     "output_type": "stream",
     "text": [
      "1900   -0.08\n",
      "1920   -0.27\n",
      "1940    0.12\n",
      "1960   -0.03\n",
      "1980    0.26\n",
      "2000    0.40\n",
      "2020    1.02\n",
      "dtype: float64\n"
     ]
    }
   ],
   "source": [
    "dic_temperaturas = {1900: -.08, 1920: -.27, 1940: .12, 1960: -.03, 1980: .26, 2000: .40, 2020: 1.02}\n",
    "\n",
    "sr_dic_temp_global = pd.Series(dic_temperaturas)\n",
    "print(sr_dic_temp_global)\n",
    "\n",
    "\n"
   ]
  },
  {
   "cell_type": "markdown",
   "metadata": {},
   "source": [
    "#### 4) Transforme o ndarray abaixo em um dataframe. \n",
    "O numpy é capaz de gerar arrays n-dimensionais com números pseudo-aleatórios de acordo com uma variedade de distribuições, como no exemplo abaixo. Transforme esse nd-array em um DataFrame."
   ]
  },
  {
   "cell_type": "code",
   "execution_count": 41,
   "metadata": {},
   "outputs": [
    {
     "name": "stdout",
     "output_type": "stream",
     "text": [
      "             0           1           2\n",
      "0    81.103765   94.788068   93.619080\n",
      "1    93.081498  110.995065   93.084000\n",
      "2   109.978293  111.188296  103.662883\n",
      "3   102.460371   98.463780  116.894178\n",
      "4    93.947508   92.340197   93.775880\n",
      "5    88.679666   91.633692  124.143259\n",
      "6    95.630396   88.313664   95.923295\n",
      "7    79.234287  106.093725  100.195584\n",
      "8    92.975052   96.216406   92.376665\n",
      "9   111.724943   81.601163  112.093973\n",
      "10   83.432581   95.709718  101.118206\n",
      "11  102.580768   82.999298  116.445593\n",
      "12   85.612056  104.433776  120.126512\n",
      "13  109.920309   78.245717  104.030338\n",
      "14   97.467806   95.751507  105.876074\n",
      "15   92.976973   87.644601   85.427693\n",
      "16  112.482297  104.140898  103.108900\n",
      "17   98.933795   78.733383  106.180266\n",
      "18  111.581373  110.825835  114.126474\n",
      "19   96.613414   98.365039  101.206035\n"
     ]
    }
   ],
   "source": [
    "arr = np.random.normal(100, 10, (20,3))\n",
    "\n",
    "df_arr = pd.DataFrame(arr)\n",
    "print(df_arr)"
   ]
  },
  {
   "cell_type": "markdown",
   "metadata": {},
   "source": [
    "#### 5) Nomeie os índices das linhas com inteiros de 1 a 20, e as colunas com os nomes \"x1\", \"x2\", e \"x3\" respectivamente."
   ]
  },
  {
   "cell_type": "code",
   "execution_count": 44,
   "metadata": {},
   "outputs": [
    {
     "name": "stdout",
     "output_type": "stream",
     "text": [
      "            x1          x2          x3\n",
      "1    81.103765   94.788068   93.619080\n",
      "2    93.081498  110.995065   93.084000\n",
      "3   109.978293  111.188296  103.662883\n",
      "4   102.460371   98.463780  116.894178\n",
      "5    93.947508   92.340197   93.775880\n",
      "6    88.679666   91.633692  124.143259\n",
      "7    95.630396   88.313664   95.923295\n",
      "8    79.234287  106.093725  100.195584\n",
      "9    92.975052   96.216406   92.376665\n",
      "10  111.724943   81.601163  112.093973\n",
      "11   83.432581   95.709718  101.118206\n",
      "12  102.580768   82.999298  116.445593\n",
      "13   85.612056  104.433776  120.126512\n",
      "14  109.920309   78.245717  104.030338\n",
      "15   97.467806   95.751507  105.876074\n",
      "16   92.976973   87.644601   85.427693\n",
      "17  112.482297  104.140898  103.108900\n",
      "18   98.933795   78.733383  106.180266\n",
      "19  111.581373  110.825835  114.126474\n",
      "20   96.613414   98.365039  101.206035\n"
     ]
    }
   ],
   "source": [
    "indices = list(range(1,21)) \n",
    "colunas = [\"x1\",\"x2\",\"x3\"]\n",
    "\n",
    "df_arr_dois = pd.DataFrame(df_arr.values, index = indices, columns = colunas)\n",
    "print (df_arr_dois)\n"
   ]
  },
  {
   "cell_type": "markdown",
   "metadata": {},
   "source": [
    "#### 6) No DataFrame do exercício 5, crie uma nova coluna como sendo a média das três colunas, e dê a ela o nome de \"media\" (não recomendo colocar acentos em nomes de variáveis)."
   ]
  },
  {
   "cell_type": "code",
   "execution_count": 47,
   "metadata": {},
   "outputs": [
    {
     "name": "stdout",
     "output_type": "stream",
     "text": [
      "            x1          x2          x3       media\n",
      "1    81.103765   94.788068   93.619080   89.836971\n",
      "2    93.081498  110.995065   93.084000   99.053521\n",
      "3   109.978293  111.188296  103.662883  108.276491\n",
      "4   102.460371   98.463780  116.894178  105.939443\n",
      "5    93.947508   92.340197   93.775880   93.354528\n",
      "6    88.679666   91.633692  124.143259  101.485539\n",
      "7    95.630396   88.313664   95.923295   93.289119\n",
      "8    79.234287  106.093725  100.195584   95.174532\n",
      "9    92.975052   96.216406   92.376665   93.856041\n",
      "10  111.724943   81.601163  112.093973  101.806693\n",
      "11   83.432581   95.709718  101.118206   93.420168\n",
      "12  102.580768   82.999298  116.445593  100.675220\n",
      "13   85.612056  104.433776  120.126512  103.390781\n",
      "14  109.920309   78.245717  104.030338   97.398788\n",
      "15   97.467806   95.751507  105.876074   99.698462\n",
      "16   92.976973   87.644601   85.427693   88.683089\n",
      "17  112.482297  104.140898  103.108900  106.577365\n",
      "18   98.933795   78.733383  106.180266   94.615815\n",
      "19  111.581373  110.825835  114.126474  112.177894\n",
      "20   96.613414   98.365039  101.206035   98.728163\n"
     ]
    }
   ],
   "source": [
    "df_arr_dois[\"media\"] = df_arr_dois.mean(axis=1)\n",
    "\n",
    "print(df_arr_dois)"
   ]
  },
  {
   "cell_type": "markdown",
   "metadata": {},
   "source": [
    "#### 7) No DataFrame do exercício 6, crie uma nova coluna chamada \"log_med\", contendo o logaritmo natural da média calculada no exercício 6 <br>"
   ]
  },
  {
   "cell_type": "code",
   "execution_count": 48,
   "metadata": {},
   "outputs": [
    {
     "name": "stdout",
     "output_type": "stream",
     "text": [
      "            x1          x2          x3       media  ln_media\n",
      "1    81.103765   94.788068   93.619080   89.836971  4.497997\n",
      "2    93.081498  110.995065   93.084000   99.053521  4.595660\n",
      "3   109.978293  111.188296  103.662883  108.276491  4.684688\n",
      "4   102.460371   98.463780  116.894178  105.939443  4.662868\n",
      "5    93.947508   92.340197   93.775880   93.354528  4.536404\n",
      "6    88.679666   91.633692  124.143259  101.485539  4.619916\n",
      "7    95.630396   88.313664   95.923295   93.289119  4.535703\n",
      "8    79.234287  106.093725  100.195584   95.174532  4.555712\n",
      "9    92.975052   96.216406   92.376665   93.856041  4.541762\n",
      "10  111.724943   81.601163  112.093973  101.806693  4.623076\n",
      "11   83.432581   95.709718  101.118206   93.420168  4.537107\n",
      "12  102.580768   82.999298  116.445593  100.675220  4.611900\n",
      "13   85.612056  104.433776  120.126512  103.390781  4.638516\n",
      "14  109.920309   78.245717  104.030338   97.398788  4.578814\n",
      "15   97.467806   95.751507  105.876074   99.698462  4.602150\n",
      "16   92.976973   87.644601   85.427693   88.683089  4.485069\n",
      "17  112.482297  104.140898  103.108900  106.577365  4.668871\n",
      "18   98.933795   78.733383  106.180266   94.615815  4.549825\n",
      "19  111.581373  110.825835  114.126474  112.177894  4.720086\n",
      "20   96.613414   98.365039  101.206035   98.728163  4.592370\n"
     ]
    }
   ],
   "source": [
    "df_arr_dois[\"ln_media\"] = np.log(df_arr_dois[\"media\"])\n",
    "\n",
    "print(df_arr_dois)"
   ]
  },
  {
   "cell_type": "code",
   "execution_count": null,
   "metadata": {},
   "outputs": [],
   "source": []
  }
 ],
 "metadata": {
  "kernelspec": {
   "display_name": "Python [conda env:base] *",
   "language": "python",
   "name": "conda-base-py"
  },
  "language_info": {
   "codemirror_mode": {
    "name": "ipython",
    "version": 3
   },
   "file_extension": ".py",
   "mimetype": "text/x-python",
   "name": "python",
   "nbconvert_exporter": "python",
   "pygments_lexer": "ipython3",
   "version": "3.12.7"
  }
 },
 "nbformat": 4,
 "nbformat_minor": 4
}
